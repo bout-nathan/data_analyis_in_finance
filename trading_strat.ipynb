{
 "cells": [
  {
   "cell_type": "markdown",
   "metadata": {},
   "source": [
    "sanity check of the data, do we have indeed 30 stock at all time for the DJIA, etc."
   ]
  },
  {
   "cell_type": "code",
   "execution_count": 9,
   "metadata": {},
   "outputs": [
    {
     "name": "stdout",
     "output_type": "stream",
     "text": [
      "Summary written to summary_output.txt\n"
     ]
    }
   ],
   "source": [
    "import pathlib\n",
    "from collections import defaultdict\n",
    "\n",
    "# Path to the parent directory containing year folders\n",
    "data_dir = pathlib.Path(\"api-data-signal/\")\n",
    "\n",
    "year_to_companies = {}\n",
    "company_to_years = defaultdict(set)\n",
    "\n",
    "# Traverse each \"year\" folder\n",
    "for year_folder in data_dir.iterdir():\n",
    "    if year_folder.is_dir():\n",
    "        year = year_folder.name\n",
    "        companies = []\n",
    "        # Each subfolder inside 'year_folder' is treated as a ticker\n",
    "        for ticker_folder in year_folder.iterdir():\n",
    "            if ticker_folder.is_dir():\n",
    "                companies.append(ticker_folder.name)\n",
    "                company_to_years[ticker_folder.name].add(year)\n",
    "        year_to_companies[year] = companies\n",
    "\n",
    "# Build output lines\n",
    "output_lines = []\n",
    "output_lines.append(\"Yearly structure:\")\n",
    "for year, companies in sorted(year_to_companies.items()):\n",
    "    output_lines.append(f\"{year}: {len(companies)} companies\")\n",
    "    output_lines.append(f\"  {sorted(companies)}\")\n",
    "\n",
    "output_lines.append(\"\\nCompany appearances across years:\")\n",
    "for company, years in sorted(company_to_years.items()):\n",
    "    output_lines.append(f\"{company}: appears in {len(years)} year(s)\")\n",
    "    output_lines.append(f\"  {sorted(years)}\")\n",
    "\n",
    "# Write to a file in the \"trading_strat_data/\" folder\n",
    "with open(\"trading_strat_data/summary_output.txt\", \"w\", encoding=\"utf-8\") as f:\n",
    "    for line in output_lines:\n",
    "        f.write(line + \"\\n\")\n",
    "\n",
    "print(\"Summary written to summary_output.txt\")\n"
   ]
  },
  {
   "cell_type": "markdown",
   "metadata": {},
   "source": [
    "create single dataframe containing the sentiment values of interest for each stock, each year."
   ]
  },
  {
   "cell_type": "code",
   "execution_count": 10,
   "metadata": {},
   "outputs": [
    {
     "name": "stdout",
     "output_type": "stream",
     "text": [
      "   Year Company  sentiment_score_positive  sentiment_score_negative  \\\n",
      "0  2010    AAPL                      66.0                     144.0   \n",
      "1  2010    AMGN                     106.0                     106.0   \n",
      "2  2010    AMZN                     110.0                      92.0   \n",
      "3  2010     AXP                       1.0                       0.0   \n",
      "4  2010      BA                     183.0                     379.0   \n",
      "\n",
      "   sentiment_score_polarity  sentiment_score_subjectivity  similarity_score  \\\n",
      "0                 -0.371429                      0.047436          0.962567   \n",
      "1                  0.000000                      0.045778          0.962118   \n",
      "2                  0.089109                      0.056933          0.000000   \n",
      "3                  0.999999                      0.041667          0.000000   \n",
      "4                 -0.348754                      0.073889          0.982955   \n",
      "\n",
      "   nlp_result  \n",
      "0           0  \n",
      "1           0  \n",
      "2           0  \n",
      "3           0  \n",
      "4           0  \n",
      "DataFrame saved to sentiment_analysis.csv\n"
     ]
    }
   ],
   "source": [
    "import pathlib\n",
    "import json\n",
    "import pandas as pd\n",
    "\n",
    "# Set the path to the folder containing the year folders\n",
    "data_dir = pathlib.Path(\"api-data-signal/\")\n",
    "\n",
    "# List to hold rows for the DataFrame\n",
    "rows = []\n",
    "\n",
    "# Iterate over each year folder\n",
    "for year_folder in data_dir.iterdir():\n",
    "    if year_folder.is_dir():\n",
    "        year = year_folder.name  # e.g., \"2010\", \"2011\", etc.\n",
    "        # Iterate over each company folder within the year folder\n",
    "        for company_folder in year_folder.iterdir():\n",
    "            if company_folder.is_dir():\n",
    "                company = company_folder.name  # e.g., \"AAPL\", \"AMZN\", etc.\n",
    "                info_file = company_folder / \"10_K_info.txt\"\n",
    "                if info_file.exists():\n",
    "                    try:\n",
    "                        # Read and parse the JSON content from the file\n",
    "                        with open(info_file, \"r\", encoding=\"utf-8\") as f:\n",
    "                            content = f.read().strip()\n",
    "                            # If the file is pure JSON, we can load it directly\n",
    "                            info = json.loads(content)\n",
    "                    except Exception as e:\n",
    "                        print(f\"Error reading {info_file}: {e}\")\n",
    "                        info = {}\n",
    "                    \n",
    "                    # Extract sentiment and other values\n",
    "                    sentiment = info.get(\"sentiment_score\", {})\n",
    "                    row = {\n",
    "                        \"Year\": year,\n",
    "                        \"Company\": company,\n",
    "                        \"sentiment_score_positive\": sentiment.get(\"Positive\"),\n",
    "                        \"sentiment_score_negative\": sentiment.get(\"Negative\"),\n",
    "                        \"sentiment_score_polarity\": sentiment.get(\"Polarity\"),\n",
    "                        \"sentiment_score_subjectivity\": sentiment.get(\"Subjectivity\"),\n",
    "                        \"similarity_score\": info.get(\"similarity_score\"),\n",
    "                        \"nlp_result\": info.get(\"nlp_result\")\n",
    "                    }\n",
    "                    rows.append(row)\n",
    "                else:\n",
    "                    print(f\"File not found: {info_file}\")\n",
    "\n",
    "# Create DataFrame\n",
    "df = pd.DataFrame(rows)\n",
    "\n",
    "# Optionally convert 'Year' to numeric and sort the DataFrame\n",
    "df[\"Year\"] = pd.to_numeric(df[\"Year\"], errors=\"coerce\")\n",
    "df = df.sort_values(by=[\"Year\", \"Company\"]).reset_index(drop=True)\n",
    "\n",
    "# Display the DataFrame\n",
    "print(df.head())\n",
    "\n",
    "# Save the DataFrame to a CSV file\n",
    "df.to_csv(\"trading_strat_data/sentiment_analysis.csv\", index=False)\n",
    "print(\"DataFrame saved to sentiment_analysis.csv\")\n"
   ]
  },
  {
   "cell_type": "code",
   "execution_count": 16,
   "metadata": {},
   "outputs": [
    {
     "name": "stdout",
     "output_type": "stream",
     "text": [
      "Year                            0\n",
      "Company                         0\n",
      "sentiment_score_positive        0\n",
      "sentiment_score_negative        0\n",
      "sentiment_score_polarity        0\n",
      "sentiment_score_subjectivity    0\n",
      "similarity_score                0\n",
      "nlp_result                      0\n",
      "dtype: int64\n"
     ]
    }
   ],
   "source": [
    "# check the numebr of NaN's N/A's and any other missing values in the data\n",
    "print(df.isnull().sum())"
   ]
  },
  {
   "cell_type": "markdown",
   "metadata": {},
   "source": [
    "below we retrieve data, we take adjusted prices (take care of stock splits, etc)\n",
    "then compute returns timeframe for 1)stocks 2)DJIA as a whole"
   ]
  },
  {
   "cell_type": "code",
   "execution_count": 17,
   "metadata": {},
   "outputs": [
    {
     "name": "stderr",
     "output_type": "stream",
     "text": [
      "[*********************100%***********************]  30 of 30 completed\n",
      "/var/folders/cz/tndvsnfj5pbc0hg4zwfqf21c0000gn/T/ipykernel_21146/1131803503.py:20: FutureWarning: 'Y' is deprecated and will be removed in a future version, please use 'YE' instead.\n",
      "  yearly_first = stocks_data.resample(\"Y\").first()\n",
      "/var/folders/cz/tndvsnfj5pbc0hg4zwfqf21c0000gn/T/ipykernel_21146/1131803503.py:21: FutureWarning: 'Y' is deprecated and will be removed in a future version, please use 'YE' instead.\n",
      "  yearly_last = stocks_data.resample(\"Y\").last()\n",
      "[*********************100%***********************]  1 of 1 completed"
     ]
    },
    {
     "name": "stdout",
     "output_type": "stream",
     "text": [
      "Yearly Stock Returns:\n",
      "Ticker          AAPL      AMGN      AMZN       AXP        BA       CAT  \\\n",
      "Date                                                                     \n",
      "2010-12-31  0.507220 -0.048856  0.344287  0.067831  0.190656  0.640398   \n",
      "2011-12-31  0.228874  0.167906 -0.060363  0.104227  0.131701 -0.019657   \n",
      "2012-12-31  0.305586  0.370442  0.401274  0.204688  0.039844 -0.020586   \n",
      "2013-12-31  0.047508  0.303361  0.549843  0.558364  0.806243 -0.008824   \n",
      "2014-12-31  0.426285  0.402191 -0.220167  0.051460 -0.026749  0.045588   \n",
      "\n",
      "Ticker           CRM      CSCO       CVX       DIS  ...      MSFT       NKE  \\\n",
      "Date                                                ...                       \n",
      "2010-12-31  0.764234 -0.180640  0.197271  0.182422  ... -0.079441  0.326869   \n",
      "2011-12-31 -0.257248 -0.107640  0.193773  0.008190  ... -0.047546  0.135908   \n",
      "2012-12-31  0.661067  0.079512  0.012824  0.319618  ...  0.025976  0.081710   \n",
      "2013-12-31  0.289712  0.127669  0.168769  0.513566  ...  0.395437  0.537843   \n",
      "2014-12-31  0.081116  0.294883 -0.064119  0.250651  ...  0.284228  0.243875   \n",
      "\n",
      "Ticker          NVDA        PG       SHW       TRV       UNH         V  \\\n",
      "Date                                                                     \n",
      "2010-12-31 -0.167117  0.084872  0.385936  0.149538  0.159175 -0.196168   \n",
      "2011-12-31 -0.123894  0.063362  0.072218  0.090946  0.382829  0.451195   \n",
      "2012-12-31 -0.121148  0.050147  0.711657  0.252322  0.068941  0.483339   \n",
      "2013-12-31  0.286950  0.209735  0.184477  0.272438  0.402673  0.444355   \n",
      "2014-12-31  0.286810  0.166707  0.457183  0.212318  0.377919  0.195323   \n",
      "\n",
      "Ticker            VZ       WMT  \n",
      "Date                            \n",
      "2010-12-31  0.220063  0.017350  \n",
      "2011-12-31  0.160832  0.125303  \n",
      "2012-12-31  0.142871  0.158837  \n",
      "2013-12-31  0.159238  0.164400  \n",
      "2014-12-31 -0.002634  0.115590  \n",
      "\n",
      "[5 rows x 30 columns]\n",
      "\n",
      "Yearly DJIA Returns:\n",
      "Ticker          ^DJI\n",
      "Date                \n",
      "2010-12-31  0.093873\n",
      "2011-12-31  0.046853\n",
      "2012-12-31  0.057009\n",
      "2013-12-31  0.235907\n",
      "2014-12-31  0.084039\n"
     ]
    },
    {
     "name": "stderr",
     "output_type": "stream",
     "text": [
      "\n",
      "/var/folders/cz/tndvsnfj5pbc0hg4zwfqf21c0000gn/T/ipykernel_21146/1131803503.py:28: FutureWarning: 'Y' is deprecated and will be removed in a future version, please use 'YE' instead.\n",
      "  djia_yearly_first = djia_data.resample(\"Y\").first()\n",
      "/var/folders/cz/tndvsnfj5pbc0hg4zwfqf21c0000gn/T/ipykernel_21146/1131803503.py:29: FutureWarning: 'Y' is deprecated and will be removed in a future version, please use 'YE' instead.\n",
      "  djia_yearly_last = djia_data.resample(\"Y\").last()\n"
     ]
    }
   ],
   "source": [
    "import yfinance as yf\n",
    "import pandas as pd\n",
    "\n",
    "# Define tickers for stocks (example: 30 DJIA companies) and the DJIA ticker\n",
    "tickers = [\n",
    "    \"AAPL\", \"AMGN\", \"AMZN\", \"AXP\", \"BA\", \"CAT\", \"CRM\", \"CSCO\", \"CVX\",\n",
    "    \"DIS\", \"GS\", \"HD\", \"HON\", \"IBM\", \"JNJ\", \"JPM\", \"KO\", \"MCD\", \"MMM\",\n",
    "    \"MRK\", \"MSFT\", \"NKE\", \"NVDA\", \"PG\", \"SHW\", \"TRV\", \"UNH\", \"V\", \"VZ\", \"WMT\"\n",
    "]\n",
    "djia_ticker = \"^DJI\"\n",
    "\n",
    "# Define date range\n",
    "start_date = \"2010-01-01\"\n",
    "end_date = \"2023-12-31\"\n",
    "\n",
    "# Download adjusted daily closing data for stocks (adjusted prices)\n",
    "stocks_data = yf.download(tickers, start=start_date, end=end_date, auto_adjust=True)[\"Close\"]\n",
    "\n",
    "# Resample to yearly frequency: Get first and last prices of each year\n",
    "yearly_first = stocks_data.resample(\"Y\").first()\n",
    "yearly_last = stocks_data.resample(\"Y\").last()\n",
    "\n",
    "# Calculate yearly returns as (last / first) - 1\n",
    "yearly_returns = (yearly_last / yearly_first) - 1\n",
    "\n",
    "# Download adjusted DJIA data and compute yearly returns similarly\n",
    "djia_data = yf.download(djia_ticker, start=start_date, end=end_date, auto_adjust=True)[\"Close\"]\n",
    "djia_yearly_first = djia_data.resample(\"Y\").first()\n",
    "djia_yearly_last = djia_data.resample(\"Y\").last()\n",
    "djia_yearly_returns = (djia_yearly_last / djia_yearly_first) - 1\n",
    "\n",
    "# Create DataFrames to display\n",
    "print(\"Yearly Stock Returns:\")\n",
    "print(yearly_returns.head())\n",
    "\n",
    "print(\"\\nYearly DJIA Returns:\")\n",
    "print(djia_yearly_returns.head())\n",
    "\n",
    "# Optionally, save the results to CSV files:\n",
    "yearly_returns.to_csv(\"trading_strat_data/yearly_stock_returns.csv\")\n",
    "djia_yearly_returns.to_csv(\"trading_strat_data/yearly_djia_returns.csv\")\n"
   ]
  },
  {
   "cell_type": "code",
   "execution_count": 21,
   "metadata": {},
   "outputs": [],
   "source": [
    "# plot the returns of DJIA only among all the years\n",
    "import matplotlib.pyplot as plt\n",
    "\n",
    "import matplotlib\n",
    "matplotlib.use('Agg')\n",
    "\n",
    "# Plot the DJIA yearly returns\n",
    "plt.figure(figsize=(10, 6))\n",
    "plt.plot(djia_yearly_returns, marker=\"o\", color=\"b\", label=\"DJIA\")\n",
    "plt.title(\"Yearly DJIA Returns\")\n",
    "plt.xlabel(\"Year\")\n",
    "plt.ylabel(\"Returns\")\n",
    "plt.grid(True)\n",
    "plt.legend()\n",
    "plt.tight_layout()\n",
    "plt.savefig(\"trading_strat_data/yearly_djia_returns.png\")\n",
    "plt.close()\n",
    "plt.show()\n",
    "\n"
   ]
  }
 ],
 "metadata": {
  "kernelspec": {
   "display_name": "data_analysis_finance",
   "language": "python",
   "name": "python3"
  },
  "language_info": {
   "codemirror_mode": {
    "name": "ipython",
    "version": 3
   },
   "file_extension": ".py",
   "mimetype": "text/x-python",
   "name": "python",
   "nbconvert_exporter": "python",
   "pygments_lexer": "ipython3",
   "version": "3.11.9"
  }
 },
 "nbformat": 4,
 "nbformat_minor": 2
}
