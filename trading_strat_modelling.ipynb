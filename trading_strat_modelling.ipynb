{
 "cells": [
  {
   "cell_type": "code",
   "execution_count": 2,
   "metadata": {},
   "outputs": [],
   "source": [
    "# Import cell\n",
    "import pathlib\n",
    "from collections import defaultdict\n",
    "import json\n",
    "import pandas as pd\n",
    "import yfinance as yf\n",
    "import matplotlib.pyplot as plt\n"
   ]
  },
  {
   "cell_type": "markdown",
   "metadata": {},
   "source": [
    "### take all column from ´company´ to ´similarity_score´ as variables, regress targetting returns"
   ]
  },
  {
   "cell_type": "code",
   "execution_count": 14,
   "metadata": {},
   "outputs": [
    {
     "name": "stdout",
     "output_type": "stream",
     "text": [
      "Mean Squared Error on test set: 0.13383163051682934\n"
     ]
    }
   ],
   "source": [
    "import pandas as pd\n",
    "from sklearn.linear_model import LinearRegression\n",
    "from sklearn.metrics import mean_squared_error\n",
    "from sklearn.preprocessing import OneHotEncoder\n",
    "\n",
    "# Load the merged data (assume it's saved as 'merged_data.csv')\n",
    "df = pd.read_csv(\"trading_strat_data/merged_data.csv\")\n",
    "\n",
    "# Keep only the relevant columns (including Company to later map to Sector)\n",
    "columns_to_keep = [\n",
    "    \"Year\", \"Company\", \"sentiment_score_positive\", \"sentiment_score_negative\",\n",
    "    \"sentiment_score_polarity\", \"sentiment_score_subjectivity\", \"similarity_score\",\n",
    "    \"Yearly_Return\"\n",
    "]\n",
    "df = df[columns_to_keep]\n",
    "\n",
    "# Define the sector mapping dictionary and add the Sector column\n",
    "sector_mapping = {\n",
    "    \"AAPL\": \"Information Technology\",\n",
    "    \"AMGN\": \"Health Care\",\n",
    "    \"AMZN\": \"Consumer Discretionary\",\n",
    "    \"AXP\": \"Financials\",\n",
    "    \"BA\": \"Industrials\",\n",
    "    \"CAT\": \"Industrials\",\n",
    "    \"CRM\": \"Information Technology\",\n",
    "    \"CSCO\": \"Information Technology\",\n",
    "    \"CVX\": \"Energy\",\n",
    "    \"DIS\": \"Communication Services\",\n",
    "    \"GS\": \"Financials\",\n",
    "    \"HD\": \"Consumer Discretionary\",\n",
    "    \"HON\": \"Industrials\",\n",
    "    \"IBM\": \"Information Technology\",\n",
    "    \"JNJ\": \"Health Care\",\n",
    "    \"JPM\": \"Financials\",\n",
    "    \"KO\": \"Consumer Staples\",\n",
    "    \"MCD\": \"Consumer Discretionary\",\n",
    "    \"MMM\": \"Industrials\",\n",
    "    \"MRK\": \"Health Care\",\n",
    "    \"MSFT\": \"Information Technology\",\n",
    "    \"NKE\": \"Consumer Discretionary\",\n",
    "    \"NVDA\": \"Information Technology\",\n",
    "    \"PG\": \"Consumer Staples\",\n",
    "    \"SHW\": \"Materials\",\n",
    "    \"TRV\": \"Financials\",\n",
    "    \"UNH\": \"Health Care\",\n",
    "    \"V\": \"Financials\",\n",
    "    \"VZ\": \"Communication Services\",\n",
    "    \"WMT\": \"Consumer Staples\"\n",
    "}\n",
    "df[\"Sector\"] = df[\"Company\"].map(sector_mapping)\n",
    "\n",
    "# One-hot encode the 'Company' column\n",
    "encoder_company = OneHotEncoder(sparse_output=False, drop='first')\n",
    "company_encoded = encoder_company.fit_transform(df[['Company']])\n",
    "company_encoded_df = pd.DataFrame(company_encoded, columns=encoder_company.get_feature_names_out(['Company']))\n",
    "\n",
    "# One-hot encode the 'Sector' column\n",
    "encoder_sector = OneHotEncoder(sparse_output=False, drop='first')\n",
    "sector_encoded = encoder_sector.fit_transform(df[['Sector']])\n",
    "sector_encoded_df = pd.DataFrame(sector_encoded, columns=encoder_sector.get_feature_names_out(['Sector']))\n",
    "\n",
    "# Concatenate the encoded columns with the original dataframe and drop the original Company and Sector columns\n",
    "df = pd.concat([df.reset_index(drop=True), company_encoded_df.reset_index(drop=True), sector_encoded_df.reset_index(drop=True)], axis=1)\n",
    "df.drop(columns=[\"Company\", \"Sector\"], inplace=True)\n",
    "\n",
    "# Define the target and features\n",
    "target = \"Yearly_Return\"\n",
    "features = [\n",
    "    \"sentiment_score_positive\", \"sentiment_score_negative\",\n",
    "    \"sentiment_score_polarity\", \"sentiment_score_subjectivity\", \"similarity_score\"\n",
    "] + list(company_encoded_df.columns) + list(sector_encoded_df.columns)\n",
    "\n",
    "# Sort data by Year to maintain time order\n",
    "df.sort_values(\"Year\", inplace=True)\n",
    "\n",
    "# Perform a time-based split: training on 2011-2020, testing on 2021-2024\n",
    "train_data = df[df[\"Year\"] <= 2020]\n",
    "test_data  = df[df[\"Year\"] > 2020]\n",
    "\n",
    "X_train = train_data[features]\n",
    "y_train = train_data[target]\n",
    "X_test  = test_data[features]\n",
    "y_test  = test_data[target]\n",
    "\n",
    "# Initialize and train the linear regression model\n",
    "lr_model = LinearRegression()\n",
    "lr_model.fit(X_train, y_train)\n",
    "\n",
    "# Make predictions on the test set\n",
    "y_pred = lr_model.predict(X_test)\n",
    "\n",
    "# Evaluate the model using Mean Squared Error (MSE)\n",
    "mse = mean_squared_error(y_test, y_pred)\n",
    "print(\"Mean Squared Error on test set:\", mse)\n"
   ]
  },
  {
   "cell_type": "markdown",
   "metadata": {},
   "source": [
    "## batched by company"
   ]
  },
  {
   "cell_type": "markdown",
   "metadata": {},
   "source": [
    "## I) \n",
    "\n",
    "-try to pool all together/ not pool and keep company per company\n",
    "(training assuming that all synthax of files \"10_K_info.txt\" are in similar style: hence we don't trian company per company?)\n",
    "\n",
    "-try algo reg, NeuralNet, etc?\n",
    "\n",
    "-which inputs\n",
    "\n",
    "## II)\n",
    "Trading strat and backtest?"
   ]
  },
  {
   "cell_type": "markdown",
   "metadata": {},
   "source": []
  }
 ],
 "metadata": {
  "kernelspec": {
   "display_name": "data_analysis_finance",
   "language": "python",
   "name": "python3"
  },
  "language_info": {
   "codemirror_mode": {
    "name": "ipython",
    "version": 3
   },
   "file_extension": ".py",
   "mimetype": "text/x-python",
   "name": "python",
   "nbconvert_exporter": "python",
   "pygments_lexer": "ipython3",
   "version": "3.11.9"
  }
 },
 "nbformat": 4,
 "nbformat_minor": 2
}
