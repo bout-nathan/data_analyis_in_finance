{
 "cells": [
  {
   "cell_type": "code",
   "execution_count": 95,
   "metadata": {},
   "outputs": [],
   "source": [
    "# Import cell\n",
    "import pathlib\n",
    "from collections import defaultdict\n",
    "import json\n",
    "import pandas as pd\n",
    "import yfinance as yf\n",
    "import matplotlib.pyplot as plt\n",
    "import numpy as np\n",
    "import os\n",
    "import statsmodels.api as sm\n",
    "from sklearn.metrics import mean_squared_error\n",
    "from sklearn.preprocessing import OneHotEncoder"
   ]
  },
  {
   "cell_type": "markdown",
   "metadata": {},
   "source": [
    "###  regress targetting returnss, and take regressor from ´company´ to ´similarity_score´ but also : company, Sector, DJIA previous year return."
   ]
  },
  {
   "cell_type": "code",
   "execution_count": 96,
   "metadata": {},
   "outputs": [],
   "source": [
    "def train_model_and_save_predictions(train_end_year, prediction_year, data_path, output_folder):\n",
    "    \"\"\"\n",
    "    Trains a regression model using data up to train_end_year, writes the regression summary to a file\n",
    "    in the output folder, computes MSE on both the full test set and the re-prediction for prediction_year,\n",
    "    predicts returns for prediction_year, ranks the stocks, and saves the predictions.\n",
    "    \n",
    "    Parameters:\n",
    "      train_end_year: int - last year to include in training data.\n",
    "      prediction_year: int - the year for which predictions are made.\n",
    "      data_path: str - path to the merged data CSV.\n",
    "      output_folder: str - folder where the predictions and summary file will be saved.\n",
    "    \n",
    "    Returns:\n",
    "      results: the fitted regression model.\n",
    "    \"\"\"\n",
    "    # Load the merged data\n",
    "    df = pd.read_csv(data_path)\n",
    "\n",
    "    # Keep all columns including Company, Sector, and DJIA_Return_Previous_Year\n",
    "    columns_to_keep = [\n",
    "        \"Year\", \"Company\", \"sentiment_score_positive\", \"sentiment_score_negative\",\n",
    "        \"sentiment_score_polarity\", \"sentiment_score_subjectivity\", \"similarity_score\",\n",
    "        \"DJIA_Return_Previous_Year\", \"Yearly_Return\", \"Sector\"\n",
    "    ]\n",
    "    df = df[columns_to_keep]\n",
    "\n",
    "    # One-hot encode the 'Company' column\n",
    "    encoder_company = OneHotEncoder(sparse_output=False, drop='first')\n",
    "    company_encoded = encoder_company.fit_transform(df[['Company']])\n",
    "    company_encoded_df = pd.DataFrame(company_encoded, columns=encoder_company.get_feature_names_out(['Company']))\n",
    "\n",
    "    # One-hot encode the 'Sector' column\n",
    "    encoder_sector = OneHotEncoder(sparse_output=False, drop='first')\n",
    "    sector_encoded = encoder_sector.fit_transform(df[['Sector']])\n",
    "    sector_encoded_df = pd.DataFrame(sector_encoded, columns=encoder_sector.get_feature_names_out(['Sector']))\n",
    "\n",
    "    # Concatenate the encoded columns with the original dataframe\n",
    "    df = pd.concat([df.reset_index(drop=True), \n",
    "                    company_encoded_df.reset_index(drop=True), \n",
    "                    sector_encoded_df.reset_index(drop=True)], axis=1)\n",
    "\n",
    "    # Define target and features\n",
    "    target = \"Yearly_Return\"\n",
    "    features = [\n",
    "        \"sentiment_score_positive\", \"sentiment_score_negative\",\n",
    "        \"sentiment_score_polarity\", \"sentiment_score_subjectivity\", \"similarity_score\",\n",
    "        \"DJIA_Return_Previous_Year\"\n",
    "    ] + list(company_encoded_df.columns) + list(sector_encoded_df.columns)\n",
    "\n",
    "    # Sort data by Year to maintain time order\n",
    "    df.sort_values(\"Year\", inplace=True)\n",
    "\n",
    "    # Split data: training on data up to train_end_year and testing on later years\n",
    "    train_data = df[df[\"Year\"] <= train_end_year]\n",
    "    test_data  = df[df[\"Year\"] > train_end_year]\n",
    "\n",
    "    X_train = train_data[features]\n",
    "    y_train = train_data[target]\n",
    "\n",
    "    # Build and train the model\n",
    "    X_train_const = sm.add_constant(X_train)\n",
    "    model = sm.OLS(y_train, X_train_const)\n",
    "    results = model.fit()\n",
    "\n",
    "    # Write the regression summary to a file in the output folder\n",
    "    if not os.path.exists(output_folder):\n",
    "        os.makedirs(output_folder)\n",
    "    summary_file = os.path.join(output_folder, f\"regression_summary_{prediction_year}.txt\")\n",
    "    with open(summary_file, \"w\") as f:\n",
    "        f.write(results.summary().as_text())\n",
    "    print(f\"Regression summary saved to {summary_file}\")\n",
    "\n",
    "    # Evaluate on full test set (years > train_end_year)\n",
    "    X_test = test_data[features]\n",
    "    y_test = test_data[target]\n",
    "    X_test_const = sm.add_constant(X_test)\n",
    "    y_pred = results.predict(X_test_const)\n",
    "    mse_test = mean_squared_error(y_test, y_pred)\n",
    "    print(f\"MSE on full test set (years > {train_end_year}): {mse_test:.4f}\")\n",
    "\n",
    "    # Predict for the specific prediction_year\n",
    "    prediction_data = df[df[\"Year\"] == prediction_year].copy()\n",
    "    X_pred = prediction_data[features]\n",
    "    # Align columns with training data\n",
    "    X_pred = X_pred.reindex(columns=X_train.columns, fill_value=0)\n",
    "    X_pred_const = sm.add_constant(X_pred, has_constant='add')\n",
    "    predicted_returns = results.predict(X_pred_const)\n",
    "    prediction_data['Predicted_Return'] = predicted_returns\n",
    "\n",
    "    # Calculate MSE for the re-prediction on prediction_year\n",
    "    mse_prediction = mean_squared_error(prediction_data[target], prediction_data['Predicted_Return'])\n",
    "    print(f\"MSE on re-prediction for {prediction_year}: {mse_prediction:.4f}\")\n",
    "\n",
    "    # Keep only necessary columns and add rankings\n",
    "    prediction_data = prediction_data[['Year', 'Company', 'Yearly_Return', 'Predicted_Return']]\n",
    "    prediction_data['Predicted_Return_Rank'] = prediction_data['Predicted_Return'].rank(method='min', ascending=False)\n",
    "    prediction_data['Yearly_Return_Rank'] = prediction_data['Yearly_Return'].rank(method='min', ascending=False)\n",
    "\n",
    "    # Save predictions sorted by predicted and actual return ranks\n",
    "    file_pred = os.path.join(output_folder, f\"{prediction_year}_by_predicted.csv\")\n",
    "    file_actual = os.path.join(output_folder, f\"{prediction_year}_by_actual.csv\")\n",
    "    prediction_data.sort_values(by='Predicted_Return_Rank').to_csv(file_pred, index=False)\n",
    "    prediction_data.sort_values(by='Yearly_Return_Rank').to_csv(file_actual, index=False)\n",
    "    print(f\"Predictions for {prediction_year} saved successfully in {output_folder}!\")\n",
    "\n",
    "    return results\n",
    "\n",
    "def compute_strategy_returns(prediction_file, djia_file, year):\n",
    "    \"\"\"\n",
    "    Computes the long-short strategy return using the predictions file,\n",
    "    and compares it to the DJIA return for the given year.\n",
    "    \n",
    "    Parameters:\n",
    "      prediction_file: str - path to the predictions CSV sorted by predicted returns.\n",
    "      djia_file: str - path to the DJIA returns CSV.\n",
    "      year: int - the year for which to compute the returns.\n",
    "      \n",
    "    Returns:\n",
    "      A tuple (strategy_return, djia_return).\n",
    "    \"\"\"\n",
    "    # Load the predictions file\n",
    "    df_pred = pd.read_csv(prediction_file)\n",
    "    n = len(df_pred)\n",
    "    n_quartile = int(np.ceil(n * 0.25))\n",
    "    \n",
    "    # Sort by Predicted_Return_Rank (lowest rank = highest predicted return)\n",
    "    df_pred_sorted = df_pred.sort_values(by='Predicted_Return_Rank')\n",
    "    long_positions = df_pred_sorted.head(n_quartile)\n",
    "    short_positions = df_pred_sorted.tail(n_quartile)\n",
    "    \n",
    "    long_return = long_positions['Yearly_Return'].mean()\n",
    "    short_return = short_positions['Yearly_Return'].mean()\n",
    "    \n",
    "    # Long-short portfolio return\n",
    "    strategy_return = long_return - short_return\n",
    "\n",
    "    # Load DJIA data and extract the DJIA return for the year\n",
    "    df_djia = pd.read_csv(djia_file)\n",
    "    df_djia['Year'] = pd.to_datetime(df_djia['Date']).dt.year\n",
    "    djia_year = df_djia[df_djia['Year'] == year]\n",
    "    if djia_year.empty:\n",
    "        raise ValueError(f\"No DJIA return data found for {year}.\")\n",
    "    djia_return = djia_year.iloc[0]['^DJI']\n",
    "    \n",
    "    # Output the results\n",
    "    print(f\"{year} Trading Strategy Results:\")\n",
    "    print(f\"Strategy Return: {strategy_return * 100:.2f}%\")\n",
    "    print(f\"DJIA Return: {djia_return * 100:.2f}%\")\n",
    "    print(f\"Excess Return (Strategy vs DJIA): {(strategy_return - djia_return) * 100:.2f}%\")\n",
    "    \n",
    "    return strategy_return, djia_return"
   ]
  },
  {
   "cell_type": "code",
   "execution_count": 100,
   "metadata": {},
   "outputs": [
    {
     "name": "stdout",
     "output_type": "stream",
     "text": [
      "Regression summary saved to trading_strat_data/2021_returns_predictions/regression_summary_2021.txt\n",
      "MSE on full test set (years > 2020): 0.1263\n",
      "MSE on re-prediction for 2021: 0.0552\n",
      "Predictions for 2021 saved successfully in trading_strat_data/2021_returns_predictions!\n",
      "2021 Trading Strategy Results:\n",
      "Strategy Return: 29.28%\n",
      "DJIA Return: 20.23%\n",
      "Excess Return (Strategy vs DJIA): 9.05%\n"
     ]
    },
    {
     "data": {
      "text/plain": [
       "(np.float64(0.29283545349172885), np.float64(0.2023038738497948))"
      ]
     },
     "execution_count": 100,
     "metadata": {},
     "output_type": "execute_result"
    }
   ],
   "source": [
    "# Example usage:\n",
    "# For a simulation in 2021 (from the perspective of someone at end of 2020):\n",
    "model_results_2021 = train_model_and_save_predictions(\n",
    "    train_end_year=2020,\n",
    "    prediction_year=2021,\n",
    "    data_path=\"trading_strat_data/merged_data.csv\",\n",
    "    output_folder=\"trading_strat_data/2021_returns_predictions\"\n",
    ")\n",
    "compute_strategy_returns(\n",
    "    prediction_file=\"trading_strat_data/2021_returns_predictions/2021_by_predicted.csv\",\n",
    "    djia_file=\"trading_strat_data/yearly_djia_returns.csv\",\n",
    "    year=2021\n",
    ")"
   ]
  },
  {
   "cell_type": "code",
   "execution_count": 101,
   "metadata": {},
   "outputs": [
    {
     "name": "stdout",
     "output_type": "stream",
     "text": [
      "Regression summary saved to trading_strat_data/2022_returns_predictions/regression_summary_2022.txt\n",
      "MSE on full test set (years > 2021): 0.1450\n",
      "MSE on re-prediction for 2022: 0.1697\n",
      "Predictions for 2022 saved successfully in trading_strat_data/2022_returns_predictions!\n",
      "2022 Trading Strategy Results:\n",
      "Strategy Return: -40.18%\n",
      "DJIA Return: -9.40%\n",
      "Excess Return (Strategy vs DJIA): -30.78%\n"
     ]
    },
    {
     "data": {
      "text/plain": [
       "(np.float64(-0.4017931980924885), np.float64(-0.0939675574098246))"
      ]
     },
     "execution_count": 101,
     "metadata": {},
     "output_type": "execute_result"
    }
   ],
   "source": [
    "# Example usage:\n",
    "# For a simulation in 2022 (from the perspective of someone at end of 2021):\n",
    "model_results_2022 = train_model_and_save_predictions(\n",
    "    train_end_year=2021,\n",
    "    prediction_year=2022,\n",
    "    data_path=\"trading_strat_data/merged_data.csv\",\n",
    "    output_folder=\"trading_strat_data/2022_returns_predictions\"\n",
    ")\n",
    "compute_strategy_returns(\n",
    "    prediction_file=\"trading_strat_data/2022_returns_predictions/2022_by_predicted.csv\",\n",
    "    djia_file=\"trading_strat_data/yearly_djia_returns.csv\",\n",
    "    year=2022\n",
    ")"
   ]
  },
  {
   "cell_type": "code",
   "execution_count": 102,
   "metadata": {},
   "outputs": [
    {
     "name": "stdout",
     "output_type": "stream",
     "text": [
      "Regression summary saved to trading_strat_data/2023_returns_predictions/regression_summary_2023.txt\n",
      "MSE on full test set (years > 2022): 0.1467\n",
      "MSE on re-prediction for 2023: 0.1621\n",
      "Predictions for 2023 saved successfully in trading_strat_data/2023_returns_predictions!\n",
      "2023 Trading Strategy Results:\n",
      "Strategy Return: 61.29%\n",
      "DJIA Return: 13.74%\n",
      "Excess Return (Strategy vs DJIA): 47.55%\n"
     ]
    },
    {
     "data": {
      "text/plain": [
       "(np.float64(0.6128866478553259), np.float64(0.1374069585310986))"
      ]
     },
     "execution_count": 102,
     "metadata": {},
     "output_type": "execute_result"
    }
   ],
   "source": [
    "# Example usage:\n",
    "# For a simulation in 2023 (from the perspective of someone at end of 2022):\n",
    "model_results_2023 = train_model_and_save_predictions(\n",
    "    train_end_year=2022,\n",
    "    prediction_year=2023,\n",
    "    data_path=\"trading_strat_data/merged_data.csv\",\n",
    "    output_folder=\"trading_strat_data/2023_returns_predictions\"\n",
    ")\n",
    "compute_strategy_returns(\n",
    "    prediction_file=\"trading_strat_data/2023_returns_predictions/2023_by_predicted.csv\",\n",
    "    djia_file=\"trading_strat_data/yearly_djia_returns.csv\",\n",
    "    year=2023\n",
    ")"
   ]
  },
  {
   "cell_type": "code",
   "execution_count": 103,
   "metadata": {},
   "outputs": [
    {
     "name": "stdout",
     "output_type": "stream",
     "text": [
      "Regression summary saved to trading_strat_data/2024_returns_predictions/regression_summary_2024.txt\n"
     ]
    },
    {
     "ename": "ValueError",
     "evalue": "shapes (30,43) and (44,) not aligned: 43 (dim 1) != 44 (dim 0)",
     "output_type": "error",
     "traceback": [
      "\u001b[31m---------------------------------------------------------------------------\u001b[39m",
      "\u001b[31mValueError\u001b[39m                                Traceback (most recent call last)",
      "\u001b[36mCell\u001b[39m\u001b[36m \u001b[39m\u001b[32mIn[103]\u001b[39m\u001b[32m, line 3\u001b[39m\n\u001b[32m      1\u001b[39m \u001b[38;5;66;03m# Example usage:\u001b[39;00m\n\u001b[32m      2\u001b[39m \u001b[38;5;66;03m# For a simulation in 2024 (from the perspective of someone at end of 2023):\u001b[39;00m\n\u001b[32m----> \u001b[39m\u001b[32m3\u001b[39m model_results_2024 = \u001b[43mtrain_model_and_save_predictions\u001b[49m\u001b[43m(\u001b[49m\n\u001b[32m      4\u001b[39m \u001b[43m    \u001b[49m\u001b[43mtrain_end_year\u001b[49m\u001b[43m=\u001b[49m\u001b[32;43m2023\u001b[39;49m\u001b[43m,\u001b[49m\n\u001b[32m      5\u001b[39m \u001b[43m    \u001b[49m\u001b[43mprediction_year\u001b[49m\u001b[43m=\u001b[49m\u001b[32;43m2024\u001b[39;49m\u001b[43m,\u001b[49m\n\u001b[32m      6\u001b[39m \u001b[43m    \u001b[49m\u001b[43mdata_path\u001b[49m\u001b[43m=\u001b[49m\u001b[33;43m\"\u001b[39;49m\u001b[33;43mtrading_strat_data/merged_data.csv\u001b[39;49m\u001b[33;43m\"\u001b[39;49m\u001b[43m,\u001b[49m\n\u001b[32m      7\u001b[39m \u001b[43m    \u001b[49m\u001b[43moutput_folder\u001b[49m\u001b[43m=\u001b[49m\u001b[33;43m\"\u001b[39;49m\u001b[33;43mtrading_strat_data/2024_returns_predictions\u001b[39;49m\u001b[33;43m\"\u001b[39;49m\n\u001b[32m      8\u001b[39m \u001b[43m)\u001b[49m\n\u001b[32m      9\u001b[39m compute_strategy_returns(\n\u001b[32m     10\u001b[39m     prediction_file=\u001b[33m\"\u001b[39m\u001b[33mtrading_strat_data/2024_returns_predictions/2024_by_predicted.csv\u001b[39m\u001b[33m\"\u001b[39m,\n\u001b[32m     11\u001b[39m     djia_file=\u001b[33m\"\u001b[39m\u001b[33mtrading_strat_data/yearly_djia_returns.csv\u001b[39m\u001b[33m\"\u001b[39m,\n\u001b[32m     12\u001b[39m     year=\u001b[32m2024\u001b[39m\n\u001b[32m     13\u001b[39m )\n",
      "\u001b[36mCell\u001b[39m\u001b[36m \u001b[39m\u001b[32mIn[96]\u001b[39m\u001b[32m, line 77\u001b[39m, in \u001b[36mtrain_model_and_save_predictions\u001b[39m\u001b[34m(train_end_year, prediction_year, data_path, output_folder)\u001b[39m\n\u001b[32m     75\u001b[39m y_test = test_data[target]\n\u001b[32m     76\u001b[39m X_test_const = sm.add_constant(X_test)\n\u001b[32m---> \u001b[39m\u001b[32m77\u001b[39m y_pred = \u001b[43mresults\u001b[49m\u001b[43m.\u001b[49m\u001b[43mpredict\u001b[49m\u001b[43m(\u001b[49m\u001b[43mX_test_const\u001b[49m\u001b[43m)\u001b[49m\n\u001b[32m     78\u001b[39m mse_test = mean_squared_error(y_test, y_pred)\n\u001b[32m     79\u001b[39m \u001b[38;5;28mprint\u001b[39m(\u001b[33mf\u001b[39m\u001b[33m\"\u001b[39m\u001b[33mMSE on full test set (years > \u001b[39m\u001b[38;5;132;01m{\u001b[39;00mtrain_end_year\u001b[38;5;132;01m}\u001b[39;00m\u001b[33m): \u001b[39m\u001b[38;5;132;01m{\u001b[39;00mmse_test\u001b[38;5;132;01m:\u001b[39;00m\u001b[33m.4f\u001b[39m\u001b[38;5;132;01m}\u001b[39;00m\u001b[33m\"\u001b[39m)\n",
      "\u001b[36mFile \u001b[39m\u001b[32m~/miniconda3/envs/data_analysis_finance/lib/python3.11/site-packages/statsmodels/base/model.py:1174\u001b[39m, in \u001b[36mResults.predict\u001b[39m\u001b[34m(self, exog, transform, *args, **kwargs)\u001b[39m\n\u001b[32m   1127\u001b[39m \u001b[38;5;250m\u001b[39m\u001b[33;03m\"\"\"\u001b[39;00m\n\u001b[32m   1128\u001b[39m \u001b[33;03mCall self.model.predict with self.params as the first argument.\u001b[39;00m\n\u001b[32m   1129\u001b[39m \n\u001b[32m   (...)\u001b[39m\u001b[32m   1169\u001b[39m \u001b[33;03mreturned prediction.\u001b[39;00m\n\u001b[32m   1170\u001b[39m \u001b[33;03m\"\"\"\u001b[39;00m\n\u001b[32m   1171\u001b[39m exog, exog_index = \u001b[38;5;28mself\u001b[39m._transform_predict_exog(exog,\n\u001b[32m   1172\u001b[39m                                                 transform=transform)\n\u001b[32m-> \u001b[39m\u001b[32m1174\u001b[39m predict_results = \u001b[38;5;28;43mself\u001b[39;49m\u001b[43m.\u001b[49m\u001b[43mmodel\u001b[49m\u001b[43m.\u001b[49m\u001b[43mpredict\u001b[49m\u001b[43m(\u001b[49m\u001b[38;5;28;43mself\u001b[39;49m\u001b[43m.\u001b[49m\u001b[43mparams\u001b[49m\u001b[43m,\u001b[49m\u001b[43m \u001b[49m\u001b[43mexog\u001b[49m\u001b[43m,\u001b[49m\u001b[43m \u001b[49m\u001b[43m*\u001b[49m\u001b[43margs\u001b[49m\u001b[43m,\u001b[49m\n\u001b[32m   1175\u001b[39m \u001b[43m                                     \u001b[49m\u001b[43m*\u001b[49m\u001b[43m*\u001b[49m\u001b[43mkwargs\u001b[49m\u001b[43m)\u001b[49m\n\u001b[32m   1177\u001b[39m \u001b[38;5;28;01mif\u001b[39;00m exog_index \u001b[38;5;129;01mis\u001b[39;00m \u001b[38;5;129;01mnot\u001b[39;00m \u001b[38;5;28;01mNone\u001b[39;00m \u001b[38;5;129;01mand\u001b[39;00m \u001b[38;5;129;01mnot\u001b[39;00m \u001b[38;5;28mhasattr\u001b[39m(predict_results,\n\u001b[32m   1178\u001b[39m                                           \u001b[33m'\u001b[39m\u001b[33mpredicted_values\u001b[39m\u001b[33m'\u001b[39m):\n\u001b[32m   1179\u001b[39m     \u001b[38;5;28;01mif\u001b[39;00m predict_results.ndim == \u001b[32m1\u001b[39m:\n",
      "\u001b[36mFile \u001b[39m\u001b[32m~/miniconda3/envs/data_analysis_finance/lib/python3.11/site-packages/statsmodels/regression/linear_model.py:409\u001b[39m, in \u001b[36mRegressionModel.predict\u001b[39m\u001b[34m(self, params, exog)\u001b[39m\n\u001b[32m    406\u001b[39m \u001b[38;5;28;01mif\u001b[39;00m exog \u001b[38;5;129;01mis\u001b[39;00m \u001b[38;5;28;01mNone\u001b[39;00m:\n\u001b[32m    407\u001b[39m     exog = \u001b[38;5;28mself\u001b[39m.exog\n\u001b[32m--> \u001b[39m\u001b[32m409\u001b[39m \u001b[38;5;28;01mreturn\u001b[39;00m \u001b[43mnp\u001b[49m\u001b[43m.\u001b[49m\u001b[43mdot\u001b[49m\u001b[43m(\u001b[49m\u001b[43mexog\u001b[49m\u001b[43m,\u001b[49m\u001b[43m \u001b[49m\u001b[43mparams\u001b[49m\u001b[43m)\u001b[49m\n",
      "\u001b[31mValueError\u001b[39m: shapes (30,43) and (44,) not aligned: 43 (dim 1) != 44 (dim 0)"
     ]
    }
   ],
   "source": [
    "# Example usage:\n",
    "# For a simulation in 2024 (from the perspective of someone at end of 2023):\n",
    "model_results_2024 = train_model_and_save_predictions(\n",
    "    train_end_year=2023,\n",
    "    prediction_year=2024,\n",
    "    data_path=\"trading_strat_data/merged_data.csv\",\n",
    "    output_folder=\"trading_strat_data/2024_returns_predictions\"\n",
    ")\n",
    "compute_strategy_returns(\n",
    "    prediction_file=\"trading_strat_data/2024_returns_predictions/2024_by_predicted.csv\",\n",
    "    djia_file=\"trading_strat_data/yearly_djia_returns.csv\",\n",
    "    year=2024\n",
    ")"
   ]
  }
 ],
 "metadata": {
  "kernelspec": {
   "display_name": "data_analysis_finance",
   "language": "python",
   "name": "python3"
  },
  "language_info": {
   "codemirror_mode": {
    "name": "ipython",
    "version": 3
   },
   "file_extension": ".py",
   "mimetype": "text/x-python",
   "name": "python",
   "nbconvert_exporter": "python",
   "pygments_lexer": "ipython3",
   "version": "3.11.9"
  }
 },
 "nbformat": 4,
 "nbformat_minor": 2
}
