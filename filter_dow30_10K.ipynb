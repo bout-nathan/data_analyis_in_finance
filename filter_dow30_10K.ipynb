{
 "cells": [
  {
   "cell_type": "code",
   "execution_count": 2,
   "metadata": {},
   "outputs": [],
   "source": [
    "import codecs\n",
    "import pathlib\n",
    "import re\n",
    "from tqdm import tqdm"
   ]
  },
  {
   "cell_type": "code",
   "execution_count": 4,
   "metadata": {},
   "outputs": [],
   "source": [
    "DOW_30_2010 = [\n",
    "    '3M CO',\n",
    "    'DOW CHEMICAL CO /DE/',\n",
    "    'MCDONALDS CORP',\n",
    "    'ALCOA INC',\n",
    "    'EXXON MOBIL CORP',\n",
    "    'Merck & Co. Inc.',\n",
    "    'AMERICAN EXPRESS CO',\n",
    "    'GENERAL ELECTRIC CO',\n",
    "    'MICROSOFT CORP',\n",
    "    'AT&T INC.',\n",
    "    'HEWLETT PACKARD CO',\n",
    "    'PFIZER INC',\n",
    "    'BANK OF AMERICA CORP /DE/',\n",
    "    'HOME DEPOT INC',\n",
    "    'PROCTER & GAMBLE CO',\n",
    "    'BOEING CO',\n",
    "    'INTEL CORP',\n",
    "    'TRAVELERS COMPANIES, INC.',\n",
    "    'CATERPILLAR INC',\n",
    "    'INTERNATIONAL BUSINESS MACHINES CORP',\n",
    "    'UNITED TECHNOLOGIES CORP /DE/',\n",
    "    'CHEVRON CORP',\n",
    "    'JOHNSON & JOHNSON',\n",
    "    'VERIZON COMMUNICATIONS INC',\n",
    "    'CISCO SYSTEMS INC',\n",
    "    'J P MORGAN CHASE & CO',\n",
    "    'WAL MART STORES INC',\n",
    "    'COCA COLA CO',\n",
    "    'KRAFT FOODS INC',\n",
    "    'WALT DISNEY CO/',\n",
    "]\n",
    "\n",
    "DOW_30_CHANGES = {\n",
    "    2012: {\n",
    "        'in': ['UNITEDHEALTH GROUP INC', 'JPMORGAN CHASE & CO', 'CISCO SYSTEMS, INC.', 'PROCTER & GAMBLE Co'],\n",
    "        'out': ['KRAFT FOODS INC', 'J P MORGAN CHASE & CO', 'CISCO SYSTEMS INC', 'PROCTER & GAMBLE CO']\n",
    "    },\n",
    "    2013: {\n",
    "        'in': ['GOLDMAN SACHS GROUP INC', 'VISA INC.', 'NIKE INC'], \n",
    "        'out': ['ALCOA INC', 'BANK OF AMERICA CORP /DE/', 'HEWLETT PACKARD CO']\n",
    "    },\n",
    "    2015: {\n",
    "        'in': ['APPLE INC', 'Merck & Co., Inc.'],\n",
    "        'out': ['AT&T INC.', 'Merck & Co. Inc.']\n",
    "    },\n",
    "    2018: {\n",
    "        'in': ['Walgreens Boots Alliance, Inc.', 'Walmart Inc.'],\n",
    "        'out': ['GENERAL ELECTRIC CO', 'WAL MART STORES INC']\n",
    "    },\n",
    "    2019: {\n",
    "        'in': ['Apple Inc.', 'Walt Disney Co'],\n",
    "        'out': ['APPLE INC', 'WALT DISNEY CO/']\n",
    "    },\n",
    "    2020: {\n",
    "        'in': ['SALESFORCE.COM, INC.', 'AMGEN INC', 'HONEYWELL INTERNATIONAL INC', 'DOW INC.', 'HOME DEPOT, INC.', 'NIKE, Inc.'],\n",
    "        'out': ['EXXON MOBIL CORP', 'PFIZER INC', 'UNITED TECHNOLOGIES CORP /DE/', 'DOW CHEMICAL CO /DE/', 'HOME DEPOT INC', 'NIKE INC']\n",
    "    }\n",
    "}\n",
    "\n",
    "def generate_dow_30(year):\n",
    "    dow_30 = DOW_30_2010.copy()\n",
    "    for y in range(2012, year + 1):\n",
    "        if y in DOW_30_CHANGES:\n",
    "            for company in DOW_30_CHANGES[y]['in']:\n",
    "                dow_30.append(company)\n",
    "            for company in DOW_30_CHANGES[y]['out']:\n",
    "                dow_30.remove(company)\n",
    "    return dow_30"
   ]
  },
  {
   "cell_type": "code",
   "execution_count": 3,
   "metadata": {},
   "outputs": [
    {
     "ename": "NameError",
     "evalue": "name 'generate_dow_30' is not defined",
     "output_type": "error",
     "traceback": [
      "\u001b[0;31m---------------------------------------------------------------------------\u001b[0m",
      "\u001b[0;31mNameError\u001b[0m                                 Traceback (most recent call last)",
      "Cell \u001b[0;32mIn[3], line 29\u001b[0m\n\u001b[1;32m     26\u001b[0m folders \u001b[38;5;241m=\u001b[39m [\u001b[38;5;124m'\u001b[39m\u001b[38;5;124mQTR1_10-K_files\u001b[39m\u001b[38;5;124m'\u001b[39m, \u001b[38;5;124m'\u001b[39m\u001b[38;5;124mQTR2_10-K_files\u001b[39m\u001b[38;5;124m'\u001b[39m, \u001b[38;5;124m'\u001b[39m\u001b[38;5;124mQTR3_10-K_files\u001b[39m\u001b[38;5;124m'\u001b[39m, \u001b[38;5;124m'\u001b[39m\u001b[38;5;124mQTR4_10-K_files\u001b[39m\u001b[38;5;124m'\u001b[39m]\n\u001b[1;32m     28\u001b[0m \u001b[38;5;28;01mwith\u001b[39;00m concurrent\u001b[38;5;241m.\u001b[39mfutures\u001b[38;5;241m.\u001b[39mThreadPoolExecutor(max_workers\u001b[38;5;241m=\u001b[39m\u001b[38;5;28mlen\u001b[39m(years)) \u001b[38;5;28;01mas\u001b[39;00m executor:\n\u001b[0;32m---> 29\u001b[0m     future_to_year \u001b[38;5;241m=\u001b[39m {executor\u001b[38;5;241m.\u001b[39msubmit(process_year, year, pattern, generate_dow_30(\u001b[38;5;28mint\u001b[39m(year)), folders, root): year \u001b[38;5;28;01mfor\u001b[39;00m year \u001b[38;5;129;01min\u001b[39;00m years}\n",
      "Cell \u001b[0;32mIn[3], line 29\u001b[0m, in \u001b[0;36m<dictcomp>\u001b[0;34m(.0)\u001b[0m\n\u001b[1;32m     26\u001b[0m folders \u001b[38;5;241m=\u001b[39m [\u001b[38;5;124m'\u001b[39m\u001b[38;5;124mQTR1_10-K_files\u001b[39m\u001b[38;5;124m'\u001b[39m, \u001b[38;5;124m'\u001b[39m\u001b[38;5;124mQTR2_10-K_files\u001b[39m\u001b[38;5;124m'\u001b[39m, \u001b[38;5;124m'\u001b[39m\u001b[38;5;124mQTR3_10-K_files\u001b[39m\u001b[38;5;124m'\u001b[39m, \u001b[38;5;124m'\u001b[39m\u001b[38;5;124mQTR4_10-K_files\u001b[39m\u001b[38;5;124m'\u001b[39m]\n\u001b[1;32m     28\u001b[0m \u001b[38;5;28;01mwith\u001b[39;00m concurrent\u001b[38;5;241m.\u001b[39mfutures\u001b[38;5;241m.\u001b[39mThreadPoolExecutor(max_workers\u001b[38;5;241m=\u001b[39m\u001b[38;5;28mlen\u001b[39m(years)) \u001b[38;5;28;01mas\u001b[39;00m executor:\n\u001b[0;32m---> 29\u001b[0m     future_to_year \u001b[38;5;241m=\u001b[39m {executor\u001b[38;5;241m.\u001b[39msubmit(process_year, year, pattern, \u001b[43mgenerate_dow_30\u001b[49m(\u001b[38;5;28mint\u001b[39m(year)), folders, root): year \u001b[38;5;28;01mfor\u001b[39;00m year \u001b[38;5;129;01min\u001b[39;00m years}\n",
      "\u001b[0;31mNameError\u001b[0m: name 'generate_dow_30' is not defined"
     ]
    }
   ],
   "source": [
    "import concurrent.futures\n",
    "import pathlib\n",
    "import codecs\n",
    "import re\n",
    "\n",
    "def process_year(year, pattern, dow_30, folders, root):\n",
    "    for folder in folders:\n",
    "        path = pathlib.Path(f'{root}/{year}/{folder}')\n",
    "        for file in path.iterdir():\n",
    "            with codecs.open(file, 'r', encoding='utf-8', errors='ignore') as f:\n",
    "                content = f.read()\n",
    "                match = re.search(pattern, content)\n",
    "                if match:\n",
    "                    name = match.group(1).strip()\n",
    "                    if name in dow_30:\n",
    "                        output_dir = pathlib.Path(f'clean_data/{year}/{name}')\n",
    "                        output_dir.mkdir(parents=True, exist_ok=True)\n",
    "                        output_file = output_dir / f'{file.name}.txt'\n",
    "                        with codecs.open(output_file, 'w', encoding='utf-8', errors='ignore') as out_f:\n",
    "                            out_f.write(content)\n",
    "                        \n",
    "\n",
    "pattern = r\"COMPANY CONFORMED NAME:\\s*(.+)\"\n",
    "root = 'SEC10X'\n",
    "years = ['2010', '2011', '2012', '2013', '2014', '2015', '2016', '2017', '2018', '2019', '2020', '2021']\n",
    "folders = ['QTR1_10-K_files', 'QTR2_10-K_files', 'QTR3_10-K_files', 'QTR4_10-K_files']\n",
    "\n",
    "with concurrent.futures.ThreadPoolExecutor(max_workers=len(years)) as executor:\n",
    "    future_to_year = {executor.submit(process_year, year, pattern, generate_dow_30(int(year)), folders, root): year for year in years}"
   ]
  },
  {
   "cell_type": "code",
   "execution_count": 5,
   "metadata": {},
   "outputs": [
    {
     "name": "stdout",
     "output_type": "stream",
     "text": [
      "Year 2021 company MCDONALDS CORP file clean_data/2021/MCDONALDS CORP/20210223_10-K_edgar_data_63908_0000063908-21-000013.txt.txt has 0 matches\n",
      "Year 2012 company ALCOA INC file clean_data/2012/ALCOA INC/20120228_10-K-A_edgar_data_4281_0001193125-12-085685.txt.txt has 0 matches\n",
      "Year 2021 company INTERNATIONAL BUSINESS MACHINES CORP file clean_data/2021/INTERNATIONAL BUSINESS MACHINES CORP/20210223_10-K_edgar_data_51143_0001558370-21-001489.txt.txt has 0 matches\n",
      "Year 2012 company AMERICAN EXPRESS CO file clean_data/2012/AMERICAN EXPRESS CO/20120229_10-K-A_edgar_data_4962_0001140361-12-011832.txt.txt has 0 matches\n",
      "Year 2017 company BOEING CO file clean_data/2017/BOEING CO/20170210_10-K-A_edgar_data_12927_0000012927-17-000012.txt.txt has 0 matches\n",
      "Year 2013 company PFIZER INC file clean_data/2013/PFIZER INC/20130301_10-K-A_edgar_data_78003_0000078003-13-000009.txt.txt has 0 matches\n",
      "Year 2020 company INTERNATIONAL BUSINESS MACHINES CORP file clean_data/2020/INTERNATIONAL BUSINESS MACHINES CORP/20200225_10-K_edgar_data_51143_0001558370-20-001334.txt.txt has 0 matches\n",
      "Year 2010 company HEWLETT PACKARD CO file clean_data/2010/HEWLETT PACKARD CO/20100205_10-K-A_edgar_data_47217_0001104659-10-005204.txt.txt has 0 matches\n",
      "Year 2019 company UNITED TECHNOLOGIES CORP /DE/ file clean_data/2019/UNITED TECHNOLOGIES CORP /DE/20190405_10-K-A_edgar_data_101829_0000101829-19-000009.txt.txt has 0 matches\n",
      "Year 2013 company TRAVELERS COMPANIES, INC. file clean_data/2013/TRAVELERS COMPANIES, INC./20130301_10-K-A_edgar_data_86312_0001047469-13-001997.txt.txt has 0 matches\n",
      "Year 2021 company Walgreens Boots Alliance, Inc. file clean_data/2021/Walgreens Boots Alliance, Inc./20211124_10-K-A_edgar_data_1618921_0001618921-21-000129.txt.txt has 0 matches\n",
      "Year 2016 company GOLDMAN SACHS GROUP INC file clean_data/2016/GOLDMAN SACHS GROUP INC/20160302_10-K-A_edgar_data_886982_0001193125-16-488753.txt.txt has 0 matches\n",
      "Year 2020 company AMGEN INC file clean_data/2020/AMGEN INC/20200213_10-K-A_edgar_data_318154_0000318154-20-000019.txt.txt has 0 matches\n"
     ]
    }
   ],
   "source": [
    "def get_matches(pattern, text):\n",
    "    matches = re.findall(pattern, text, re.IGNORECASE | re.DOTALL)\n",
    "    if len(matches) > 0:\n",
    "        for match in matches:\n",
    "            matches.extend(get_matches(pattern, match[7:])) \n",
    "    return matches\n",
    "\n",
    "def extract_year(year, pattern, dow_30, root):\n",
    "    for company in dow_30:\n",
    "        path = pathlib.Path(f'{root}/{year}/{company}')\n",
    "        for file in path.iterdir():\n",
    "            with codecs.open(file, 'r', encoding='utf-8', errors='ignore') as f:\n",
    "                content = f.read()\n",
    "                matches = get_matches(pattern, content)\n",
    "                if matches:\n",
    "                    for i, match in enumerate(matches):\n",
    "                        if type(match) == tuple:\n",
    "                            print(match)\n",
    "                        output_dir = pathlib.Path(f'extracted_data/{year}/{company}')\n",
    "                        output_dir.mkdir(parents=True, exist_ok=True)\n",
    "                        output_file = output_dir / f'{file.name}_{i}'                            \n",
    "                        with codecs.open(output_file, 'w', encoding='utf-8', errors='ignore') as out_f:\n",
    "                            out_f.write(match)\n",
    "                if len(matches) < 1:\n",
    "                    print(f'Year {year} company {company} file {file} has {len(matches)} matches')\n",
    "                \n",
    "pattern = r\"\\n\\s?item[^a-zA-Z\\n]*\\s?\\n?\\s?7\\.?\\s*\\n*\\s*ma.*\\s?\\n?\\s?item[^a-zA-Z\\n]*\\s?\\n?\\s?7a\"\n",
    "\n",
    "root = 'clean_data'\n",
    "years = ['2010', '2011', '2012', '2013', '2014', '2015', '2016', '2017', '2018', '2019', '2020', '2021']\n",
    "\n",
    "with concurrent.futures.ThreadPoolExecutor(max_workers=len(years)) as executor:\n",
    "    future_to_year = {executor.submit(extract_year, year, pattern, generate_dow_30(int(year)), root): year for year in years}\n",
    "    for future in concurrent.futures.as_completed(future_to_year):\n",
    "        year = future_to_year[future]\n",
    "        try:\n",
    "            future.result()\n",
    "        except Exception as exc:\n",
    "            print(f'Year {year} generated an exception: {exc}')\n"
   ]
  },
  {
   "cell_type": "code",
   "execution_count": 10,
   "metadata": {},
   "outputs": [
    {
     "data": {
      "text/plain": [
       "[\"\\nITEM 7. Management's D\\n\\nITEM\\n 7A\\n\\nITEM\\n 7A\"]"
      ]
     },
     "execution_count": 10,
     "metadata": {},
     "output_type": "execute_result"
    }
   ],
   "source": [
    "text = \"\"\"\n",
    "Item 7, \"Management's Disc\n",
    "ITEM 7. Management's D\n",
    "\n",
    "ITEM\n",
    " 7A\n",
    "\n",
    "ITEM\n",
    " 7A\n",
    "\"\"\"\n",
    "pattern = pattern = r\"\\n\\s?item[^a-zA-Z\\n]*\\s?\\n?\\s?7\\.?\\s*\\n*\\s*ma.*\\s?\\n?\\s?item[^a-zA-Z\\n]*\\s?\\n?\\s?7a\"\n",
    "def get_matches(pattern, text):\n",
    "    matches = re.findall(pattern, text, re.IGNORECASE | re.DOTALL)\n",
    "    if len(matches) > 0:\n",
    "        for match in matches:\n",
    "            matches.extend(get_matches(pattern, match[7:])) \n",
    "    return matches\n",
    "get_matches(pattern, text)"
   ]
  },
  {
   "cell_type": "code",
   "execution_count": 6,
   "metadata": {},
   "outputs": [
    {
     "name": "stdout",
     "output_type": "stream",
     "text": [
      "Year 2021 generated an exception: [Errno 2] No such file or directory: 'extracted_data/2021/MCDONALDS CORP'\n",
      "Year 2020 generated an exception: [Errno 2] No such file or directory: 'extracted_data/2020/INTERNATIONAL BUSINESS MACHINES CORP'\n"
     ]
    }
   ],
   "source": [
    "def extract_len(year, dow_30, root):\n",
    "    for company in dow_30:\n",
    "        path = pathlib.Path(f'{root}/{year}/{company}')\n",
    "        for file in path.iterdir():\n",
    "            with codecs.open(file, 'r', encoding='utf-8', errors='ignore') as f:\n",
    "                content = f.read()\n",
    "                if len(content) > 10000:\n",
    "                    output_dir = pathlib.Path(f'final_data/{year}/{company}')\n",
    "                    output_dir.mkdir(parents=True, exist_ok=True)\n",
    "                    output_file = output_dir / f'{file.name}'\n",
    "                    with codecs.open(output_file, 'w', encoding='utf-8', errors='ignore') as out_f:\n",
    "                        out_f.write(content)                            \n",
    "                        \n",
    "                    \n",
    "\n",
    "root = 'extracted_data'\n",
    "years = ['2010', '2011', '2012', '2013', '2014', '2015', '2016', '2017', '2018', '2019', '2020', '2021']\n",
    "list_len = []\n",
    "\n",
    "with concurrent.futures.ThreadPoolExecutor(max_workers=len(years)) as executor:\n",
    "    future_to_year = {executor.submit(extract_len, year, generate_dow_30(int(year)), root): year for year in years}\n",
    "    for future in concurrent.futures.as_completed(future_to_year):\n",
    "        year = future_to_year[future]\n",
    "        try:\n",
    "            future.result()\n",
    "        except Exception as exc:\n",
    "            print(f'Year {year} generated an exception: {exc}')"
   ]
  },
  {
   "cell_type": "code",
   "execution_count": null,
   "metadata": {},
   "outputs": [
    {
     "data": {
      "image/png": "[encoded data removed]",
      "text/plain": [
       "<Figure size 640x480 with 1 Axes>"
      ]
     },
     "metadata": {},
     "output_type": "display_data"
    }
   ],
   "source": []
  }
 ],
 "metadata": {
  "kernelspec": {
   "display_name": "data_analysis_finance",
   "language": "python",
   "name": "python3"
  },
  "language_info": {
   "codemirror_mode": {
    "name": "ipython",
    "version": 3
   },
   "file_extension": ".py",
   "mimetype": "text/x-python",
   "name": "python",
   "nbconvert_exporter": "python",
   "pygments_lexer": "ipython3",
   "version": "3.11.9"
  }
 },
 "nbformat": 4,
 "nbformat_minor": 2
}
