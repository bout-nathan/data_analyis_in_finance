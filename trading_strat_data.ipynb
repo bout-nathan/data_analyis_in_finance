{
 "cells": [
  {
   "cell_type": "code",
   "execution_count": 87,
   "metadata": {},
   "outputs": [],
   "source": [
    "# Import cell\n",
    "import pathlib\n",
    "from collections import defaultdict\n",
    "import json\n",
    "import pandas as pd\n",
    "import yfinance as yf\n",
    "import matplotlib.pyplot as plt\n",
    "import numpy as np\n"
   ]
  },
  {
   "cell_type": "code",
   "execution_count": 88,
   "metadata": {},
   "outputs": [],
   "source": [
    "# if fodler trading_strat_data does not exist, create it\n",
    "pathlib.Path('trading_strat_data').mkdir(parents=True, exist_ok=True)"
   ]
  },
  {
   "cell_type": "markdown",
   "metadata": {},
   "source": [
    "## sanity check of the data api-dat-signal, for 10K_inofs,we indeed same 30 stocks each year for DJIA"
   ]
  },
  {
   "cell_type": "code",
   "execution_count": 89,
   "metadata": {},
   "outputs": [],
   "source": [
    "# # Path to the parent directory containing year folders\n",
    "# data_dir = pathlib.Path(\"api-data-signal/\")\n",
    "\n",
    "# year_to_companies = {}\n",
    "# company_to_years = defaultdict(set)\n",
    "\n",
    "# # Traverse each \"year\" folder\n",
    "# for year_folder in data_dir.iterdir():\n",
    "#     if year_folder.is_dir():\n",
    "#         year = year_folder.name\n",
    "#         companies = []\n",
    "#         # Each subfolder inside 'year_folder' is treated as a ticker\n",
    "#         for ticker_folder in year_folder.iterdir():\n",
    "#             if ticker_folder.is_dir():\n",
    "#                 companies.append(ticker_folder.name)\n",
    "#                 company_to_years[ticker_folder.name].add(year)\n",
    "#         year_to_companies[year] = companies\n",
    "\n",
    "# # Build output lines\n",
    "# output_lines = []\n",
    "# output_lines.append(\"Yearly structure:\")\n",
    "# for year, companies in sorted(year_to_companies.items()):\n",
    "#     output_lines.append(f\"{year}: {len(companies)} companies\")\n",
    "#     output_lines.append(f\"  {sorted(companies)}\")\n",
    "\n",
    "# output_lines.append(\"\\nCompany appearances across years:\")\n",
    "# for company, years in sorted(company_to_years.items()):\n",
    "#     output_lines.append(f\"{company}: appears in {len(years)} year(s)\")\n",
    "#     output_lines.append(f\"  {sorted(years)}\")\n",
    "\n",
    "# # Write to a file in the \"trading_strat_data/\" folder\n",
    "# with open(\"trading_strat_data/summary_output.txt\", \"w\", encoding=\"utf-8\") as f:\n",
    "#     for line in output_lines:\n",
    "#         f.write(line + \"\\n\")\n",
    "\n",
    "# print(\"Summary written to summary_output.txt\")\n"
   ]
  },
  {
   "cell_type": "markdown",
   "metadata": {},
   "source": [
    "## single dataframe containing sentiment values of interest for each stock, each year"
   ]
  },
  {
   "cell_type": "code",
   "execution_count": 90,
   "metadata": {},
   "outputs": [
    {
     "name": "stdout",
     "output_type": "stream",
     "text": [
      "   Year Company  sentiment_score_positive  sentiment_score_negative  \\\n",
      "0  2010    AAPL                      66.0                     144.0   \n",
      "1  2010    AMGN                     106.0                     106.0   \n",
      "2  2010    AMZN                     110.0                      92.0   \n",
      "3  2010     AXP                       1.0                       0.0   \n",
      "4  2010      BA                     183.0                     379.0   \n",
      "\n",
      "   sentiment_score_polarity  sentiment_score_subjectivity  similarity_score  \\\n",
      "0                 -0.371429                      0.047436          0.962567   \n",
      "1                  0.000000                      0.045778          0.962118   \n",
      "2                  0.089109                      0.056933          0.000000   \n",
      "3                  0.999999                      0.041667          0.000000   \n",
      "4                 -0.348754                      0.073889          0.982955   \n",
      "\n",
      "   nlp_result  \n",
      "0           0  \n",
      "1           0  \n",
      "2           0  \n",
      "3           0  \n",
      "4           0  \n",
      "DataFrame saved to sentiment_analysis.csv\n"
     ]
    }
   ],
   "source": [
    "# Set the path to the folder containing the year folders\n",
    "data_dir = pathlib.Path(\"api-data-signal/\")\n",
    "\n",
    "# List to hold rows for the DataFrame\n",
    "rows = []\n",
    "\n",
    "# Iterate over each year folder\n",
    "for year_folder in data_dir.iterdir():\n",
    "    if year_folder.is_dir():\n",
    "        year = year_folder.name  # e.g., \"2010\", \"2011\", etc.\n",
    "        # Iterate over each company folder within the year folder\n",
    "        for company_folder in year_folder.iterdir():\n",
    "            if company_folder.is_dir():\n",
    "                company = company_folder.name  # e.g., \"AAPL\", \"AMZN\", etc.\n",
    "                info_file = company_folder / \"10_K_info.txt\"\n",
    "                if info_file.exists():\n",
    "                    try:\n",
    "                        # Read and parse the JSON content from the file\n",
    "                        with open(info_file, \"r\", encoding=\"utf-8\") as f:\n",
    "                            content = f.read().strip()\n",
    "                            # If the file is pure JSON, we can load it directly\n",
    "                            info = json.loads(content)\n",
    "                    except Exception as e:\n",
    "                        print(f\"Error reading {info_file}: {e}\")\n",
    "                        info = {}\n",
    "                    \n",
    "                    # Extract sentiment and other values\n",
    "                    sentiment = info.get(\"sentiment_score\", {})\n",
    "                    row = {\n",
    "                        \"Year\": year,\n",
    "                        \"Company\": company,\n",
    "                        \"sentiment_score_positive\": sentiment.get(\"Positive\"),\n",
    "                        \"sentiment_score_negative\": sentiment.get(\"Negative\"),\n",
    "                        \"sentiment_score_polarity\": sentiment.get(\"Polarity\"),\n",
    "                        \"sentiment_score_subjectivity\": sentiment.get(\"Subjectivity\"),\n",
    "                        \"similarity_score\": info.get(\"similarity_score\"),\n",
    "                        \"nlp_result\": info.get(\"nlp_result\")\n",
    "                    }\n",
    "                    rows.append(row)\n",
    "                else:\n",
    "                    print(f\"File not found: {info_file}\")\n",
    "\n",
    "# Create DataFrame\n",
    "df = pd.DataFrame(rows)\n",
    "\n",
    "# Optionally convert 'Year' to numeric and sort the DataFrame\n",
    "df[\"Year\"] = pd.to_numeric(df[\"Year\"], errors=\"coerce\")\n",
    "df = df.sort_values(by=[\"Year\", \"Company\"]).reset_index(drop=True)\n",
    "\n",
    "# Display the DataFrame\n",
    "print(df.head())\n",
    "\n",
    "# Save the DataFrame to a CSV file\n",
    "df.to_csv(\"trading_strat_data/sentiment_analysis.csv\", index=False)\n",
    "print(\"DataFrame saved to sentiment_analysis.csv\")\n"
   ]
  },
  {
   "cell_type": "code",
   "execution_count": 91,
   "metadata": {},
   "outputs": [
    {
     "name": "stdout",
     "output_type": "stream",
     "text": [
      "                              Count  Percentage\n",
      "Year                              0    0.000000\n",
      "Company                           0    0.000000\n",
      "sentiment_score_positive         32    7.619048\n",
      "sentiment_score_negative         81   19.285714\n",
      "sentiment_score_polarity         37    8.809524\n",
      "sentiment_score_subjectivity     30    7.142857\n",
      "similarity_score                  4    0.952381\n",
      "nlp_result                      420  100.000000\n"
     ]
    }
   ],
   "source": [
    "# check the number of 0's in the dataframe df, within each column, and their percentage\n",
    "zero_counts = df.isin([0]).sum()\n",
    "zero_percentages = df.isin([0]).mean() * 100\n",
    "print(pd.concat([zero_counts, zero_percentages], axis=1, keys=['Count', 'Percentage']))\n"
   ]
  },
  {
   "cell_type": "markdown",
   "metadata": {},
   "source": [
    "## Retrieve market data of ADJUSTED returns (bc of stock splits, etc), and taking for year i+1, then compute returns timeframe for 1)stocks 2)DJIA as a whole"
   ]
  },
  {
   "cell_type": "code",
   "execution_count": 92,
   "metadata": {},
   "outputs": [
    {
     "name": "stderr",
     "output_type": "stream",
     "text": [
      "[*********************100%***********************]  30 of 30 completed\n",
      "/var/folders/cz/tndvsnfj5pbc0hg4zwfqf21c0000gn/T/ipykernel_32601/3509722936.py:17: FutureWarning: 'Y' is deprecated and will be removed in a future version, please use 'YE' instead.\n",
      "  yearly_first = stocks_data.resample(\"Y\").first()\n",
      "/var/folders/cz/tndvsnfj5pbc0hg4zwfqf21c0000gn/T/ipykernel_32601/3509722936.py:18: FutureWarning: 'Y' is deprecated and will be removed in a future version, please use 'YE' instead.\n",
      "  yearly_last = stocks_data.resample(\"Y\").last()\n",
      "[*********************100%***********************]  1 of 1 completed"
     ]
    },
    {
     "name": "stdout",
     "output_type": "stream",
     "text": [
      "Yearly Stock Returns:\n",
      "Ticker          AAPL      AMGN      AMZN       AXP        BA       CAT  \\\n",
      "Date                                                                     \n",
      "2010-12-31  0.507219 -0.048856  0.344287  0.067830  0.190656  0.640397   \n",
      "2011-12-31  0.228874  0.167907 -0.060363  0.104228  0.131701 -0.019657   \n",
      "2012-12-31  0.305586  0.370443  0.401274  0.204688  0.039844 -0.020586   \n",
      "2013-12-31  0.047509  0.303361  0.549843  0.558365  0.806242 -0.008824   \n",
      "2014-12-31  0.426284  0.402192 -0.220167  0.051461 -0.026749  0.045588   \n",
      "\n",
      "Ticker           CRM      CSCO       CVX       DIS  ...      MSFT       NKE  \\\n",
      "Date                                                ...                       \n",
      "2010-12-31  0.764234 -0.180640  0.197271  0.182422  ... -0.079441  0.326869   \n",
      "2011-12-31 -0.257248 -0.107641  0.193773  0.008190  ... -0.047546  0.135908   \n",
      "2012-12-31  0.661067  0.079512  0.012824  0.319618  ...  0.025976  0.081710   \n",
      "2013-12-31  0.289712  0.127668  0.168769  0.513566  ...  0.395438  0.537842   \n",
      "2014-12-31  0.081116  0.294883 -0.064120  0.250651  ...  0.284228  0.243875   \n",
      "\n",
      "Ticker          NVDA        PG       SHW       TRV       UNH         V  \\\n",
      "Date                                                                     \n",
      "2010-12-31 -0.167117  0.084872  0.385935  0.149537  0.159175 -0.196167   \n",
      "2011-12-31 -0.123894  0.063362  0.072218  0.090946  0.382830  0.451193   \n",
      "2012-12-31 -0.121147  0.050147  0.711658  0.252322  0.068941  0.483339   \n",
      "2013-12-31  0.286951  0.209735  0.184477  0.272437  0.402673  0.444354   \n",
      "2014-12-31  0.286810  0.166708  0.457183  0.212318  0.377919  0.195322   \n",
      "\n",
      "Ticker            VZ       WMT  \n",
      "Date                            \n",
      "2010-12-31  0.220063  0.017349  \n",
      "2011-12-31  0.160832  0.125303  \n",
      "2012-12-31  0.142872  0.158836  \n",
      "2013-12-31  0.159238  0.164401  \n",
      "2014-12-31 -0.002634  0.115589  \n",
      "\n",
      "[5 rows x 30 columns]\n",
      "\n",
      "Yearly DJIA Returns:\n",
      "Ticker          ^DJI\n",
      "Date                \n",
      "2010-12-31  0.093873\n",
      "2011-12-31  0.046853\n",
      "2012-12-31  0.057009\n",
      "2013-12-31  0.235907\n",
      "2014-12-31  0.084039\n"
     ]
    },
    {
     "name": "stderr",
     "output_type": "stream",
     "text": [
      "\n",
      "/var/folders/cz/tndvsnfj5pbc0hg4zwfqf21c0000gn/T/ipykernel_32601/3509722936.py:25: FutureWarning: 'Y' is deprecated and will be removed in a future version, please use 'YE' instead.\n",
      "  djia_yearly_first = djia_data.resample(\"Y\").first()\n",
      "/var/folders/cz/tndvsnfj5pbc0hg4zwfqf21c0000gn/T/ipykernel_32601/3509722936.py:26: FutureWarning: 'Y' is deprecated and will be removed in a future version, please use 'YE' instead.\n",
      "  djia_yearly_last = djia_data.resample(\"Y\").last()\n"
     ]
    }
   ],
   "source": [
    "# Define tickers for stocks (example: 30 DJIA companies) and the DJIA ticker\n",
    "tickers = [\n",
    "    \"AAPL\", \"AMGN\", \"AMZN\", \"AXP\", \"BA\", \"CAT\", \"CRM\", \"CSCO\", \"CVX\",\n",
    "    \"DIS\", \"GS\", \"HD\", \"HON\", \"IBM\", \"JNJ\", \"JPM\", \"KO\", \"MCD\", \"MMM\",\n",
    "    \"MRK\", \"MSFT\", \"NKE\", \"NVDA\", \"PG\", \"SHW\", \"TRV\", \"UNH\", \"V\", \"VZ\", \"WMT\"\n",
    "]\n",
    "djia_ticker = \"^DJI\"\n",
    "\n",
    "# Define date range\n",
    "start_date = \"2010-01-01\"\n",
    "end_date = \"2024-12-31\"\n",
    "\n",
    "# Download adjusted daily closing data for stocks (adjusted prices)\n",
    "stocks_data = yf.download(tickers, start=start_date, end=end_date, auto_adjust=True)[\"Close\"]\n",
    "\n",
    "# Resample to yearly frequency: Get first and last prices of each year\n",
    "yearly_first = stocks_data.resample(\"Y\").first()\n",
    "yearly_last = stocks_data.resample(\"Y\").last()\n",
    "\n",
    "# Calculate yearly returns as (last / first) - 1\n",
    "yearly_returns = (yearly_last / yearly_first) - 1\n",
    "\n",
    "# Download adjusted DJIA data and compute yearly returns similarly\n",
    "djia_data = yf.download(djia_ticker, start=start_date, end=end_date, auto_adjust=True)[\"Close\"]\n",
    "djia_yearly_first = djia_data.resample(\"Y\").first()\n",
    "djia_yearly_last = djia_data.resample(\"Y\").last()\n",
    "djia_yearly_returns = (djia_yearly_last / djia_yearly_first) - 1\n",
    "\n",
    "# Create DataFrames to display\n",
    "print(\"Yearly Stock Returns:\")\n",
    "print(yearly_returns.head())\n",
    "\n",
    "print(\"\\nYearly DJIA Returns:\")\n",
    "print(djia_yearly_returns.head())\n",
    "\n",
    "# Optionally, save the results to CSV files:\n",
    "yearly_returns.to_csv(\"trading_strat_data/yearly_stock_returns.csv\")\n",
    "djia_yearly_returns.to_csv(\"trading_strat_data/yearly_djia_returns.csv\")\n"
   ]
  },
  {
   "cell_type": "code",
   "execution_count": 97,
   "metadata": {},
   "outputs": [
    {
     "data": {
      "image/png": "[encoded data removed]",
      "text/plain": [
       "<Figure size 1000x600 with 1 Axes>"
      ]
     },
     "metadata": {},
     "output_type": "display_data"
    }
   ],
   "source": [
    "import pandas as pd\n",
    "import matplotlib.pyplot as plt\n",
    "\n",
    "# Load the CSV file and convert 'Date' to year only\n",
    "df = pd.read_csv(\"trading_strat_data/yearly_djia_returns.csv\")\n",
    "df['Year'] = pd.to_datetime(df['Date']).dt.year\n",
    "\n",
    "plt.figure(figsize=(10, 6))\n",
    "plt.plot(df['Year'], df['^DJI'], marker='o', linestyle='-', color='b')\n",
    "\n",
    "plt.title('Yearly DJIA Returns')\n",
    "plt.xlabel('Year')\n",
    "plt.ylabel('Returns')\n",
    "\n",
    "# Set x-ticks to show every year\n",
    "plt.xticks(df['Year'])\n",
    "\n",
    "# Enable grid for both major and minor ticks (vertical grid line per x-tick)\n",
    "plt.grid(True, which='both', linestyle='--', linewidth=0.5)\n",
    "\n",
    "# Annotate each data point with its return value formatted as a percentage.\n",
    "# Multiply each value by 100 for percentage formatting.\n",
    "for x, y in zip(df['Year'], df['^DJI']):\n",
    "    plt.text(x, y, f'{y * 100:.1f}%', ha='center', va='bottom', fontsize=9, color='red')\n",
    "\n",
    "plt.show()\n"
   ]
  },
  {
   "cell_type": "markdown",
   "metadata": {},
   "source": [
    "# Project Data Overview\n",
    "\n",
    "This project has generated three key datasets that serve as the foundation for further analysis:\n",
    "\n",
    "1. **Yearly Returns for Each DJIA Stock**\n",
    "   - **Description:**  \n",
    "     A DataFrame where each row represents a year and each column represents one of the 30 DJIA stocks.\n",
    "   - **Calculation:**  \n",
    "     Yearly return is calculated using the formula:  \n",
    "     \\[\n",
    "     \\text{Return} = \\left(\\frac{\\text{Last Adjusted Price}}{\\text{First Adjusted Price}}\\right) - 1\n",
    "     \\]\n",
    "   - **Purpose:**  \n",
    "     Provides an overview of the annual performance of each stock.\n",
    "\n",
    "2. **Yearly Returns for the DJIA Index**\n",
    "   - **Description:**  \n",
    "     A separate DataFrame showing the yearly return for the DJIA index as a whole (using the `^DJI` ticker).\n",
    "   - **Calculation:**  \n",
    "     Calculated using the same method as the individual stocks.\n",
    "   - **Purpose:**  \n",
    "     Offers a benchmark for the overall market performance.\n",
    "\n",
    "3. **Sentiment Analysis DataFrame**\n",
    "   - **Description:**  \n",
    "     A DataFrame that contains sentiment analysis metrics for each company (ticker) for each year.\n",
    "   - **Metrics Included:**  \n",
    "     - `sentiment_score_positive`: Number of positive sentiment counts.\n",
    "     - `sentiment_score_negative`: Number of negative sentiment counts.\n",
    "     - `sentiment_score_polarity`: Overall polarity of the sentiment.\n",
    "     - `sentiment_score_subjectivity`: How subjective the sentiment is.\n",
    "     - `similarity_score`: Similarity metric from NLP analysis.\n",
    "     - `nlp_result`: Additional NLP-derived result.\n",
    "   - **Purpose:**  \n",
    "     Enables analysis of textual sentiment in relation to each company’s performance and trends over the years.\n"
   ]
  },
  {
   "cell_type": "markdown",
   "metadata": {},
   "source": [
    "## Merge all dataset logically"
   ]
  },
  {
   "cell_type": "code",
   "execution_count": 98,
   "metadata": {},
   "outputs": [
    {
     "name": "stdout",
     "output_type": "stream",
     "text": [
      "   Year Company  sentiment_score_positive  sentiment_score_negative  \\\n",
      "0  2011    AAPL                      66.0                     144.0   \n",
      "1  2011    AMGN                     106.0                     106.0   \n",
      "2  2011    AMZN                     110.0                      92.0   \n",
      "3  2011     AXP                       1.0                       0.0   \n",
      "4  2011      BA                     183.0                     379.0   \n",
      "\n",
      "   sentiment_score_polarity  sentiment_score_subjectivity  similarity_score  \\\n",
      "0                 -0.371429                      0.047436          0.962567   \n",
      "1                  0.000000                      0.045778          0.962118   \n",
      "2                  0.089109                      0.056933          0.000000   \n",
      "3                  0.999999                      0.041667          0.000000   \n",
      "4                 -0.348754                      0.073889          0.982955   \n",
      "\n",
      "   nlp_result Yearly_Return  DJIA_Return_Previous_Year  \n",
      "0           0      0.228874                   0.093873  \n",
      "1           0      0.167907                   0.093873  \n",
      "2           0     -0.060363                   0.093873  \n",
      "3           0      0.104228                   0.093873  \n",
      "4           0      0.131701                   0.093873  \n",
      "Merged data saved to trading_strat_data/merged_data.csv\n"
     ]
    }
   ],
   "source": [
    "# --- 1. Load the Sentiment Analysis CSV ---\n",
    "df_sentiment = pd.read_csv(\"trading_strat_data/sentiment_analysis.csv\")\n",
    "# Convert Year to numeric and shift by 1 so that sentiment for year i becomes year i+1\n",
    "df_sentiment[\"Year\"] = pd.to_numeric(df_sentiment[\"Year\"], errors=\"coerce\") + 1\n",
    "\n",
    "# --- 2. Load and Process the Yearly Stock Returns CSV ---\n",
    "df_stocks = pd.read_csv(\"trading_strat_data/yearly_stock_returns.csv\", parse_dates=True)\n",
    "if \"Year\" not in df_stocks.columns:\n",
    "    if \"Date\" in df_stocks.columns:\n",
    "        df_stocks[\"Year\"] = pd.to_datetime(df_stocks[\"Date\"]).dt.year\n",
    "    else:\n",
    "        df_stocks = df_stocks.reset_index()\n",
    "        if \"index\" in df_stocks.columns:\n",
    "            df_stocks = df_stocks.rename(columns={\"index\": \"Date\"})\n",
    "        df_stocks[\"Year\"] = pd.to_datetime(df_stocks[\"Date\"]).dt.year\n",
    "df_stocks_long = pd.melt(df_stocks, id_vars=[\"Year\"], var_name=\"Company\", value_name=\"Yearly_Return\")\n",
    "\n",
    "# --- 3. Load and Process the Yearly DJIA Returns CSV ---\n",
    "df_djia = pd.read_csv(\"trading_strat_data/yearly_djia_returns.csv\", parse_dates=True)\n",
    "if \"Year\" not in df_djia.columns:\n",
    "    if \"Date\" in df_djia.columns:\n",
    "        df_djia[\"Year\"] = pd.to_datetime(df_djia[\"Date\"]).dt.year\n",
    "    else:\n",
    "        df_djia = df_djia.reset_index()\n",
    "        if \"index\" in df_djia.columns:\n",
    "            df_djia = df_djia.rename(columns={\"index\": \"Date\"})\n",
    "        df_djia[\"Year\"] = pd.to_datetime(df_djia[\"Date\"]).dt.year\n",
    "djia_return_col = [col for col in df_djia.columns if col not in [\"Year\", \"Date\"]][0]\n",
    "df_djia = df_djia.rename(columns={djia_return_col: \"DJIA_Return_Previous_Year\"})\n",
    "df_djia[\"Year\"] = df_djia[\"Year\"] + 1  # Shift the DJIA year so that, e.g., the 2010 value is used for 2011\n",
    "\n",
    "# --- 4. Merge the DataFrames ---\n",
    "df_merge = pd.merge(df_sentiment, df_stocks_long, on=[\"Year\", \"Company\"], how=\"inner\")\n",
    "df_final = pd.merge(df_merge, df_djia[[\"Year\", \"DJIA_Return_Previous_Year\"]], on=\"Year\", how=\"left\")\n",
    "\n",
    "# --- 5. Output ---\n",
    "print(df_final.head())\n",
    "df_final.to_csv(\"trading_strat_data/merged_data.csv\", index=False)\n",
    "print(\"Merged data saved to trading_strat_data/merged_data.csv\")\n"
   ]
  },
  {
   "cell_type": "code",
   "execution_count": 99,
   "metadata": {},
   "outputs": [],
   "source": [
    "sector_mapping = {\n",
    "    \"AAPL\": \"Information Technology\",\n",
    "    \"AMGN\": \"Health Care\",\n",
    "    \"AMZN\": \"Consumer Discretionary\",\n",
    "    \"AXP\": \"Financials\",\n",
    "    \"BA\": \"Industrials\",\n",
    "    \"CAT\": \"Industrials\",\n",
    "    \"CRM\": \"Information Technology\",\n",
    "    \"CSCO\": \"Information Technology\",\n",
    "    \"CVX\": \"Energy\",\n",
    "    \"DIS\": \"Communication Services\",\n",
    "    \"GS\": \"Financials\",\n",
    "    \"HD\": \"Consumer Discretionary\",\n",
    "    \"HON\": \"Industrials\",\n",
    "    \"IBM\": \"Information Technology\",\n",
    "    \"JNJ\": \"Health Care\",\n",
    "    \"JPM\": \"Financials\",\n",
    "    \"KO\": \"Consumer Staples\",\n",
    "    \"MCD\": \"Consumer Discretionary\",\n",
    "    \"MMM\": \"Industrials\",\n",
    "    \"MRK\": \"Health Care\",\n",
    "    \"MSFT\": \"Information Technology\",\n",
    "    \"NKE\": \"Consumer Discretionary\",\n",
    "    \"NVDA\": \"Information Technology\",\n",
    "    \"PG\": \"Consumer Staples\",\n",
    "    \"SHW\": \"Materials\",\n",
    "    \"TRV\": \"Financials\",\n",
    "    \"UNH\": \"Health Care\",\n",
    "    \"V\": \"Financials\",\n",
    "    \"VZ\": \"Communication Services\",\n",
    "    \"WMT\": \"Consumer Staples\"\n",
    "}\n",
    "\n",
    "\n",
    "# add a new column 'Sector' to the DataFrame df_final\n",
    "df_final[\"Sector\"] = df_final[\"Company\"].map(sector_mapping)\n"
   ]
  },
  {
   "cell_type": "code",
   "execution_count": 100,
   "metadata": {},
   "outputs": [
    {
     "name": "stdout",
     "output_type": "stream",
     "text": [
      "Merged data with sector saved to trading_strat_data/merged_data.csv\n"
     ]
    }
   ],
   "source": [
    "# save it back to merged_data.csv\n",
    "df_final.to_csv(\"trading_strat_data/merged_data.csv\", index=False)\n",
    "print(\"Merged data with sector saved to trading_strat_data/merged_data.csv\")"
   ]
  }
 ],
 "metadata": {
  "kernelspec": {
   "display_name": "data_analysis_finance",
   "language": "python",
   "name": "python3"
  },
  "language_info": {
   "codemirror_mode": {
    "name": "ipython",
    "version": 3
   },
   "file_extension": ".py",
   "mimetype": "text/x-python",
   "name": "python",
   "nbconvert_exporter": "python",
   "pygments_lexer": "ipython3",
   "version": "3.11.9"
  }
 },
 "nbformat": 4,
 "nbformat_minor": 2
}
